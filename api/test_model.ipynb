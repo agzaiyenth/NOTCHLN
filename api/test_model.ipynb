{
 "cells": [
  {
   "cell_type": "markdown",
   "id": "a69ef471",
   "metadata": {},
   "source": [
    "# Service Completion Time Prediction - Testing Notebook\n",
    "\n",
    "This notebook helps you test and understand your service completion time prediction model."
   ]
  },
  {
   "cell_type": "markdown",
   "id": "ec381aa3",
   "metadata": {},
   "source": [
    "## 1. Import Required Libraries"
   ]
  },
  {
   "cell_type": "code",
   "execution_count": null,
   "id": "9273eac4",
   "metadata": {},
   "outputs": [],
   "source": [
    "import pandas as pd\n",
    "import numpy as np\n",
    "import matplotlib.pyplot as plt\n",
    "import seaborn as sns\n",
    "import os\n",
    "import joblib\n",
    "import sys\n",
    "from datetime import datetime\n",
    "\n",
    "# Add parent directory to path so we can import from model_predictor.py\n",
    "sys.path.append('..')"
   ]
  },
  {
   "cell_type": "markdown",
   "id": "1fdd3f9e",
   "metadata": {},
   "source": [
    "## 2. Load Model and Preprocessing Components"
   ]
  },
  {
   "cell_type": "code",
   "execution_count": null,
   "id": "d15c908c",
   "metadata": {},
   "outputs": [],
   "source": [
    "# Define paths\n",
    "MODEL_DIR = os.path.join(os.path.dirname(os.getcwd()), 'Model', 'Tast1')\n",
    "\n",
    "# Load model and preprocessing components\n",
    "model = joblib.load(os.path.join(MODEL_DIR, 'model.pkl'))\n",
    "scaler = joblib.load(os.path.join(MODEL_DIR, 'scaler.pkl'))\n",
    "le_task = joblib.load(os.path.join(MODEL_DIR, 'task_label_encoder.pkl'))\n",
    "le_section = joblib.load(os.path.join(MODEL_DIR, 'section_label_encoder.pkl'))\n",
    "\n",
    "print(\"Model and preprocessing components loaded successfully!\")"
   ]
  },
  {
   "cell_type": "markdown",
   "id": "872e6fcf",
   "metadata": {},
   "source": [
    "## 3. Examine the Model"
   ]
  },
  {
   "cell_type": "code",
   "execution_count": null,
   "id": "196639d6",
   "metadata": {},
   "outputs": [],
   "source": [
    "# Print model info\n",
    "print(f\"Model type: {type(model).__name__}\")\n",
    "\n",
    "# If it's an XGBoost model\n",
    "if hasattr(model, 'get_params'):\n",
    "    print(\"\\nModel parameters:\")\n",
    "    for param, value in model.get_params().items():\n",
    "        print(f\"  {param}: {value}\")"
   ]
  },
  {
   "cell_type": "markdown",
   "id": "045cca74",
   "metadata": {},
   "source": [
    "## 4. Examine the Preprocessing Components"
   ]
  },
  {
   "cell_type": "code",
   "execution_count": null,
   "id": "24a13cb5",
   "metadata": {},
   "outputs": [],
   "source": [
    "# Check task label encoder classes\n",
    "print(\"Task IDs:\")\n",
    "for i, task_id in enumerate(le_task.classes_):\n",
    "    print(f\"  {i}: {task_id}\")\n",
    "\n",
    "print(\"\\nSection IDs:\")\n",
    "for i, section_id in enumerate(le_section.classes_):\n",
    "    print(f\"  {i}: {section_id}\")"
   ]
  },
  {
   "cell_type": "markdown",
   "id": "2d21d65a",
   "metadata": {},
   "source": [
    "## 5. Create a Prediction Function"
   ]
  },
  {
   "cell_type": "code",
   "execution_count": null,
   "id": "82feb30c",
   "metadata": {},
   "outputs": [],
   "source": [
    "def predict_completion_time(date, time_str, task_id):\n",
    "    \"\"\"Predicts service completion time in minutes\"\"\"\n",
    "    # Convert date to datetime\n",
    "    date = pd.to_datetime(date)\n",
    "    \n",
    "    # Extract features\n",
    "    hour = int(time_str.split(':')[0])\n",
    "    minute = int(time_str.split(':')[1])\n",
    "    weekday = date.weekday()\n",
    "    is_weekend = 1 if weekday >= 5 else 0\n",
    "    month = date.month\n",
    "    \n",
    "    # Encode task_id\n",
    "    try:\n",
    "        task_id_encoded = le_task.transform([str(task_id)])[0]\n",
    "    except:\n",
    "        # If task_id not in training data, use a default value\n",
    "        print(f\"Warning: Unknown task_id: {task_id}\")\n",
    "        task_id_encoded = -1\n",
    "    \n",
    "    # Use a default section ID\n",
    "    section_id_encoded = 0\n",
    "    \n",
    "    # Set default staff features\n",
    "    employees_on_duty = 5\n",
    "    staff_load_ratio = 1.0\n",
    "    \n",
    "    # Build feature vector\n",
    "    features_dict = {\n",
    "        'appointment_hour': hour,\n",
    "        'appointment_weekday': weekday,\n",
    "        'is_weekend': is_weekend,\n",
    "        'month': month,\n",
    "        'staff_load_ratio': staff_load_ratio,\n",
    "        'employees_on_duty': employees_on_duty,\n",
    "        'task_id_encoded': task_id_encoded,\n",
    "        'section_id_encoded': section_id_encoded\n",
    "    }\n",
    "    \n",
    "    input_df = pd.DataFrame([features_dict])\n",
    "    \n",
    "    # Scale numeric features\n",
    "    num_features = ['appointment_hour', 'appointment_weekday', 'month', \n",
    "                  'staff_load_ratio', 'employees_on_duty']\n",
    "    \n",
    "    input_df[num_features] = scaler.transform(input_df[num_features])\n",
    "    \n",
    "    # Extract features in the correct order\n",
    "    features = [\n",
    "        'appointment_hour', 'appointment_weekday', 'is_weekend', 'month',\n",
    "        'staff_load_ratio', 'employees_on_duty', 'task_id_encoded', 'section_id_encoded'\n",
    "    ]\n",
    "    X = input_df[features]\n",
    "    \n",
    "    # Predict\n",
    "    predicted_minutes = model.predict(X)[0]\n",
    "    return round(predicted_minutes)"
   ]
  },
  {
   "cell_type": "markdown",
   "id": "633f5d96",
   "metadata": {},
   "source": [
    "## 6. Test the Model with Example Data"
   ]
  },
  {
   "cell_type": "code",
   "execution_count": null,
   "id": "1307bd3a",
   "metadata": {},
   "outputs": [],
   "source": [
    "# Test cases\n",
    "test_cases = [\n",
    "    {\"date\": \"2025-08-29\", \"time\": \"10:30\", \"task_id\": \"PASSPORT_RENEWAL\"},\n",
    "    {\"date\": \"2025-09-15\", \"time\": \"14:15\", \"task_id\": \"VISA_APPLICATION\"},\n",
    "    {\"date\": \"2025-08-25\", \"time\": \"09:00\", \"task_id\": \"ID_CARD\"},\n",
    "    {\"date\": \"2025-08-30\", \"time\": \"11:45\", \"task_id\": \"DRIVING_LICENSE\"},\n",
    "]\n",
    "\n",
    "results = []\n",
    "for i, case in enumerate(test_cases, 1):\n",
    "    try:\n",
    "        prediction = predict_completion_time(case[\"date\"], case[\"time\"], case[\"task_id\"])\n",
    "        print(f\"Test {i}:\")\n",
    "        print(f\"  Input: Date={case['date']}, Time={case['time']}, Task={case['task_id']}\")\n",
    "        print(f\"  Predicted completion time: {prediction} minutes\")\n",
    "        results.append({**case, \"prediction\": prediction})\n",
    "    except Exception as e:\n",
    "        print(f\"Test {i} failed: {e}\")"
   ]
  },
  {
   "cell_type": "markdown",
   "id": "31645f8f",
   "metadata": {},
   "source": [
    "## 7. Visualize the Results"
   ]
  },
  {
   "cell_type": "code",
   "execution_count": null,
   "id": "99a45091",
   "metadata": {},
   "outputs": [],
   "source": [
    "# Create a DataFrame from results\n",
    "results_df = pd.DataFrame(results)\n",
    "\n",
    "# Bar chart\n",
    "plt.figure(figsize=(10, 6))\n",
    "sns.barplot(x=\"task_id\", y=\"prediction\", data=results_df)\n",
    "plt.title(\"Predicted Completion Time by Task Type\")\n",
    "plt.xlabel(\"Task Type\")\n",
    "plt.ylabel(\"Completion Time (minutes)\")\n",
    "plt.xticks(rotation=45)\n",
    "plt.tight_layout()\n",
    "plt.show()"
   ]
  },
  {
   "cell_type": "markdown",
   "id": "420a17fc",
   "metadata": {},
   "source": [
    "## 8. Analyze Factors Influencing Predictions"
   ]
  },
  {
   "cell_type": "code",
   "execution_count": null,
   "id": "df475e3a",
   "metadata": {},
   "outputs": [],
   "source": [
    "# Generate data for different times of day\n",
    "times = [f\"{hour:02d}:00\" for hour in range(8, 19)]\n",
    "predictions = []\n",
    "\n",
    "for time in times:\n",
    "    pred = predict_completion_time(\"2025-08-29\", time, \"PASSPORT_RENEWAL\")\n",
    "    predictions.append({\"time\": time, \"prediction\": pred})\n",
    "\n",
    "time_df = pd.DataFrame(predictions)\n",
    "\n",
    "# Plot\n",
    "plt.figure(figsize=(10, 6))\n",
    "sns.lineplot(x=\"time\", y=\"prediction\", data=time_df, marker='o')\n",
    "plt.title(\"Predicted Completion Time by Time of Day\")\n",
    "plt.xlabel(\"Time of Day\")\n",
    "plt.ylabel(\"Completion Time (minutes)\")\n",
    "plt.xticks(rotation=45)\n",
    "plt.grid(True, linestyle='--', alpha=0.7)\n",
    "plt.tight_layout()\n",
    "plt.show()"
   ]
  },
  {
   "cell_type": "markdown",
   "id": "20693c84",
   "metadata": {},
   "source": [
    "## 9. Test the Service using the API"
   ]
  },
  {
   "cell_type": "code",
   "execution_count": null,
   "id": "b23bdf64",
   "metadata": {},
   "outputs": [],
   "source": [
    "import requests\n",
    "\n",
    "def test_api(url=\"http://localhost:5000\", test_cases=None):\n",
    "    \"\"\"Test the prediction API with various inputs\"\"\"\n",
    "    \n",
    "    if test_cases is None:\n",
    "        test_cases = [\n",
    "            {\"date\": \"2025-08-29\", \"time\": \"10:30\", \"task_id\": \"PASSPORT_RENEWAL\"},\n",
    "            {\"date\": \"2025-09-15\", \"time\": \"14:15\", \"task_id\": \"VISA_APPLICATION\"},\n",
    "            {\"date\": \"2025-08-25\", \"time\": \"09:00\", \"task_id\": \"ID_CARD\"}\n",
    "        ]\n",
    "    \n",
    "    # Health check\n",
    "    try:\n",
    "        response = requests.get(f\"{url}/health\")\n",
    "        print(f\"Health check: {response.json()}\")\n",
    "    except Exception as e:\n",
    "        print(f\"Error connecting to API: {e}\")\n",
    "        print(\"Make sure the API server is running using .\\\\run_api.bat\")\n",
    "        return\n",
    "    \n",
    "    # Run tests\n",
    "    for i, test_case in enumerate(test_cases, 1):\n",
    "        try:\n",
    "            print(f\"\\nTest Case {i}:\")\n",
    "            print(f\"Input: {test_case}\")\n",
    "            \n",
    "            response = requests.post(\n",
    "                f\"{url}/predict\",\n",
    "                json=test_case,\n",
    "                headers={\"Content-Type\": \"application/json\"}\n",
    "            )\n",
    "            \n",
    "            print(f\"Status Code: {response.status_code}\")\n",
    "            print(f\"Response: {response.json()}\")\n",
    "            \n",
    "        except Exception as e:\n",
    "            print(f\"Error in test case {i}: {e}\")\n",
    "\n",
    "# Run the test (uncomment to run)\n",
    "# test_api()"
   ]
  },
  {
   "cell_type": "markdown",
   "id": "2961b0ea",
   "metadata": {},
   "source": [
    "## 10. Export Model Manually (If Needed)"
   ]
  },
  {
   "cell_type": "code",
   "execution_count": null,
   "id": "15cfdb14",
   "metadata": {},
   "outputs": [],
   "source": [
    "# If you need to manually export the model again\n",
    "def export_model_manually():\n",
    "    \"\"\"Manually export a model for testing\"\"\"\n",
    "    from xgboost import XGBRegressor\n",
    "    from sklearn.model_selection import train_test_split\n",
    "    \n",
    "    # Create dummy data\n",
    "    n_samples = 1000\n",
    "    np.random.seed(42)\n",
    "    \n",
    "    # Generate dummy features\n",
    "    df = pd.DataFrame({\n",
    "        'appointment_hour': np.random.randint(8, 18, n_samples),\n",
    "        'appointment_weekday': np.random.randint(0, 7, n_samples),\n",
    "        'is_weekend': np.random.randint(0, 2, n_samples),\n",
    "        'month': np.random.randint(1, 13, n_samples),\n",
    "        'staff_load_ratio': np.random.uniform(0.5, 3.0, n_samples),\n",
    "        'employees_on_duty': np.random.randint(2, 10, n_samples),\n",
    "        'task_id_encoded': np.random.randint(0, 5, n_samples),\n",
    "        'section_id_encoded': np.random.randint(0, 4, n_samples),\n",
    "    })\n",
    "    \n",
    "    # Generate target\n",
    "    y = 30 + 5 * df['appointment_hour'] - 2 * df['appointment_weekday'] + \\\n",
    "        15 * df['is_weekend'] + 3 * df['month'] - 8 * df['staff_load_ratio'] + \\\n",
    "        4 * df['employees_on_duty'] + np.random.normal(0, 5, n_samples)\n",
    "    \n",
    "    # Split train/test\n",
    "    X_train, X_test, y_train, y_test = train_test_split(df, y, test_size=0.2, random_state=42)\n",
    "    \n",
    "    # Train XGBoost model\n",
    "    xgb = XGBRegressor(\n",
    "        n_estimators=100,\n",
    "        learning_rate=0.1,\n",
    "        max_depth=6,\n",
    "        subsample=0.8,\n",
    "        colsample_bytree=0.8,\n",
    "        random_state=42\n",
    "    )\n",
    "    \n",
    "    xgb.fit(X_train, y_train)\n",
    "    \n",
    "    # Save model\n",
    "    joblib.dump(xgb, os.path.join(MODEL_DIR, 'model.pkl'))\n",
    "    print(f\"Model exported to {os.path.join(MODEL_DIR, 'model.pkl')}\")\n",
    "\n",
    "# Uncomment to run\n",
    "# export_model_manually()"
   ]
  }
 ],
 "metadata": {
  "language_info": {
   "name": "python"
  }
 },
 "nbformat": 4,
 "nbformat_minor": 5
}
